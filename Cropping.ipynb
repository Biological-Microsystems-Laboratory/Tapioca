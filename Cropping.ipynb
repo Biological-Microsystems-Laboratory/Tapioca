{
 "cells": [
  {
   "cell_type": "code",
   "outputs": [],
   "source": [
    "import numpy as np\n",
    "import cv2 as cv\n",
    " \n",
    "img = cv.imread('DropletPNGS/30_30_1.png', cv.IMREAD_GRAYSCALE)\n",
    "assert img is not None, \"file could not be read, check with os.path.exists()\"\n",
    "img = cv.medianBlur(img,5)\n",
    "cimg = cv.cvtColor(img,cv.COLOR_GRAY2BGR)\n",
    " \n",
    "circles = cv.HoughCircles(img,cv.HOUGH_GRADIENT,1,20,\n",
    " param1=50,param2=30,minRadius=0,maxRadius=0)\n",
    " \n",
    "circles = np.uint16(np.around(circles))\n",
    "for i in circles[0,:]:\n",
    " # draw the outer circle\n",
    " cv.circle(cimg,(i[0],i[1]),i[2],(0,255,0),2)\n",
    " # draw the center of the circle\n",
    " cv.circle(cimg,(i[0],i[1]),2,(0,0,255),3)\n",
    " \n",
    "cv.imshow('detected circles',cimg)\n",
    "cv.waitKey(0)\n",
    "cv.destroyAllWindows()"
   ],
   "metadata": {
    "collapsed": false
   },
   "id": "1542179bd7b21fbb"
  }
 ],
 "metadata": {
  "kernelspec": {
   "display_name": "Python 3",
   "language": "python",
   "name": "python3"
  },
  "language_info": {
   "codemirror_mode": {
    "name": "ipython",
    "version": 2
   },
   "file_extension": ".py",
   "mimetype": "text/x-python",
   "name": "python",
   "nbconvert_exporter": "python",
   "pygments_lexer": "ipython2",
   "version": "2.7.6"
  }
 },
 "nbformat": 4,
 "nbformat_minor": 5
}
