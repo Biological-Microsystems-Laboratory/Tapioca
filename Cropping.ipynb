{
 "cells": [
  {
   "cell_type": "code",
   "execution_count": 1,
   "id": "initial_id",
   "metadata": {
    "collapsed": true,
    "ExecuteTime": {
     "end_time": "2024-07-05T22:14:38.815364400Z",
     "start_time": "2024-07-05T22:14:37.437477300Z"
    }
   },
   "outputs": [
    {
     "name": "stdout",
     "output_type": "stream",
     "text": [
      "C:\\Users\\Dynames\\School\\LabWork\\SAM-Microfluidics C:\\Users\\Dynames\\School\\LabWork\\SAM-Microfluidics\\DropletPNGS\\30_30_1.png C:\\Users\\Dynames\\School\\LabWork\\SAM-Microfluidics\\DropletPNGS\n"
     ]
    }
   ],
   "source": [
    "import cv2\n",
    "import os\n",
    "import csv\n",
    "import matplotlib.pyplot as plt\n",
    "\n",
    "HOME = os.getcwd()\n",
    "IMG_FOLDER = os.path.join(HOME,\"DropletPNGS\")\n",
    "IMG_PATH = os.path.join(IMG_FOLDER,\"30_30_1.png\")\n",
    "print(HOME, IMG_PATH, IMG_FOLDER)\n"
   ]
  },
  {
   "cell_type": "code",
   "outputs": [],
   "source": [
    "def crop_to_box(img, coords):\n",
    "    [x,y,w,h] = coords\n",
    "    cropped_img = img[x:(x+w),y:(y+h)]\n",
    "    return cropped_img"
   ],
   "metadata": {
    "collapsed": false,
    "ExecuteTime": {
     "end_time": "2024-07-05T22:14:38.855352500Z",
     "start_time": "2024-07-05T22:14:38.820162400Z"
    }
   },
   "id": "33eb5442268e1847",
   "execution_count": 2
  },
  {
   "cell_type": "code",
   "outputs": [
    {
     "name": "stdout",
     "output_type": "stream",
     "text": [
      "880, 108, 101, 118\n",
      "989, 113, 94, 95\n",
      "21, 92, 93, 93\n",
      "1089, 500, 89, 91\n",
      "122, 685, 92, 89\n",
      "454, 95, 87, 92\n",
      "1070, 405, 91, 90\n",
      "970, 707, 90, 87\n",
      "1253, 459, 91, 89\n",
      "581, 192, 86, 92\n",
      "601, 452, 87, 90\n",
      "417, 382, 89, 90\n",
      "817, 711, 87, 93\n",
      "580, 609, 85, 91\n",
      "673, 616, 89, 91\n",
      "729, 978, 87, 89\n",
      "487, 924, 86, 89\n",
      "1141, 769, 88, 89\n",
      "1132, 341, 90, 90\n",
      "834, 404, 86, 89\n",
      "519, 264, 87, 87\n",
      "34, 660, 91, 86\n",
      "934, 529, 87, 88\n",
      "260, 393, 90, 82\n",
      "787, 889, 81, 90\n",
      "1002, 465, 87, 86\n",
      "1242, 369, 86, 85\n",
      "800, 94, 89, 85\n",
      "669, 355, 84, 87\n",
      "938, 939, 82, 90\n",
      "1110, 967, 87, 85\n",
      "1087, 174, 85, 84\n",
      "46, 995, 86, 82\n",
      "347, 447, 87, 85\n",
      "313, 42, 83, 87\n",
      "700, 68, 88, 87\n",
      "316, 751, 86, 85\n",
      "513, 435, 82, 86\n",
      "578, 364, 82, 86\n",
      "859, 24, 82, 88\n",
      "944, 281, 86, 85\n",
      "734, 153, 85, 85\n",
      "731, 819, 88, 84\n",
      "851, 499, 82, 87\n",
      "623, 696, 83, 86\n",
      "1184, 516, 85, 85\n",
      "221, 181, 87, 83\n",
      "112, 129, 82, 85\n",
      "301, 902, 83, 83\n",
      "210, 656, 82, 86\n",
      "1287, 748, 84, 85\n",
      "69, 208, 84, 83\n",
      "340, 347, 84, 84\n",
      "1064, 724, 82, 83\n",
      "495, 776, 82, 84\n",
      "405, 770, 82, 85\n",
      "182, 796, 82, 84\n",
      "1151, 595, 80, 81\n",
      "29, 805, 83, 83\n",
      "1206, 290, 82, 82\n",
      "836, 814, 83, 82\n",
      "718, 534, 80, 85\n",
      "1132, 680, 84, 81\n",
      "8, 272, 84, 80\n",
      "1298, 298, 81, 84\n",
      "579, 933, 81, 82\n",
      "184, 889, 82, 80\n",
      "391, 909, 81, 83\n",
      "696, 902, 82, 79\n",
      "548, 848, 79, 81\n",
      "1240, 589, 78, 84\n",
      "88, 378, 100, 69\n",
      "1313, 74, 78, 84\n",
      "452, 700, 81, 81\n",
      "1338, 1004, 81, 74\n",
      "1081, 891, 83, 78\n",
      "72, 17, 81, 82\n",
      "564, 109, 80, 79\n",
      "265, 823, 80, 82\n",
      "790, 575, 80, 83\n",
      "172, 459, 78, 82\n",
      "895, 673, 82, 78\n",
      "422, 618, 78, 82\n",
      "108, 288, 79, 78\n",
      "190, 349, 79, 80\n",
      "1348, 917, 81, 78\n",
      "137, 1005, 84, 73\n",
      "1338, 610, 80, 77\n",
      "253, 482, 81, 79\n",
      "214, 966, 81, 79\n",
      "337, 610, 79, 79\n",
      "109, 853, 83, 74\n",
      "1041, 325, 80, 78\n",
      "288, 1001, 80, 77\n",
      "875, 593, 79, 78\n",
      "638, 16, 76, 81\n",
      "774, 471, 77, 82\n",
      "474, 548, 77, 81\n",
      "193, 264, 79, 77\n",
      "405, 31, 79, 80\n",
      "1024, 30, 77, 81\n",
      "1360, 149, 75, 80\n",
      "771, 19, 79, 80\n",
      "1258, 885, 80, 78\n",
      "1024, 239, 77, 81\n",
      "366, 270, 80, 76\n",
      "265, 309, 79, 76\n",
      "992, 878, 80, 76\n",
      "1164, 863, 79, 76\n",
      "555, 528, 74, 81\n",
      "758, 656, 79, 78\n",
      "1073, 620, 75, 80\n",
      "1156, 54, 78, 79\n",
      "552, 29, 78, 76\n",
      "106, 935, 80, 74\n",
      "854, 965, 79, 74\n",
      "647, 981, 74, 80\n",
      "1103, 266, 77, 79\n",
      "502, 176, 76, 80\n",
      "146, 605, 81, 74\n",
      "426, 987, 78, 79\n",
      "908, 360, 77, 79\n",
      "89, 456, 78, 73\n",
      "1174, 434, 76, 76\n",
      "1172, 139, 76, 74\n",
      "637, 851, 74, 77\n",
      "295, 134, 76, 78\n",
      "541, 702, 73, 78\n",
      "1068, 816, 78, 72\n",
      "988, 626, 77, 73\n",
      "438, 476, 77, 75\n",
      "647, 129, 75, 79\n",
      "1084, 90, 75, 77\n",
      "988, 384, 76, 76\n",
      "1029, 953, 75, 77\n",
      "636, 543, 72, 77\n",
      "293, 232, 78, 77\n",
      "1330, 397, 73, 77\n",
      "763, 318, 77, 73\n",
      "1258, 227, 78, 77\n",
      "436, 221, 76, 76\n",
      "315, 531, 76, 77\n",
      "1304, 538, 78, 77\n",
      "1214, 716, 75, 79\n",
      "955, 198, 75, 76\n",
      "846, 299, 73, 77\n",
      "1229, 809, 77, 78\n",
      "1195, 938, 75, 77\n",
      "67, 582, 78, 75\n",
      "197, 109, 75, 75\n",
      "199, 543, 79, 77\n",
      "105, 774, 77, 73\n",
      "28, 916, 75, 77\n",
      "900, 759, 77, 74\n",
      "1167, 220, 76, 76\n",
      "697, 454, 71, 78\n",
      "945, 52, 72, 78\n",
      "616, 290, 74, 76\n",
      "1276, 666, 76, 76\n",
      "1355, 695, 73, 74\n",
      "921, 449, 75, 75\n",
      "294, 677, 74, 76\n",
      "1276, 153, 75, 72\n",
      "1269, 970, 75, 75\n",
      "667, 775, 74, 76\n",
      "395, 543, 73, 76\n",
      "766, 239, 76, 72\n",
      "751, 398, 75, 73\n",
      "351, 836, 76, 75\n",
      "362, 190, 76, 72\n",
      "373, 688, 75, 75\n",
      "926, 833, 74, 77\n",
      "1321, 835, 74, 75\n",
      "444, 852, 75, 73\n",
      "675, 209, 73, 74\n",
      "824, 184, 73, 73\n",
      "444, 304, 75, 73\n",
      "120, 529, 75, 73\n",
      "1026, 556, 73, 74\n",
      "505, 630, 69, 76\n",
      "156, 40, 70, 75\n",
      "375, 112, 70, 72\n",
      "738, 738, 72, 71\n",
      "992, 800, 73, 70\n",
      "261, 592, 73, 76\n",
      "504, 355, 70, 75\n",
      "885, 232, 72, 74\n",
      "35, 352, 78, 74\n",
      "699, 282, 72, 71\n",
      "241, 741, 72, 73\n",
      "234, 41, 70, 72\n",
      "878, 893, 73, 70\n",
      "1234, 88, 70, 75\n",
      "584, 775, 72, 72\n",
      "1264, 19, 71, 72\n",
      "504, 1019, 75, 59\n",
      "1049, 1033, 80, 45\n",
      "800, 1033, 73, 45\n",
      "91, 389, 69, 53\n",
      "968, 1037, 72, 41\n",
      "584, 1037, 78, 41\n",
      "882, 1039, 76, 39\n",
      "1210, 656, 65, 59\n",
      "838, 652, 62, 56\n"
     ]
    }
   ],
   "source": [
    "raw_img = cv2.imread(IMG_PATH)\n",
    "coords = []\n",
    "with open(\"results.csv\",\"r\") as csv_file:\n",
    "    read = csv.DictReader(csv_file)\n",
    "    for row in read:\n",
    "        x = int(row[\"x\"])\n",
    "        y = int(row[\"y\"])\n",
    "        w = int(row[\"w\"])\n",
    "        h = int(row[\"h\"])\n",
    "        coords.append([x,y,w,h])\n",
    "        print(f\"{x}, {y}, {w}, {h}\")"
   ],
   "metadata": {
    "collapsed": false,
    "ExecuteTime": {
     "end_time": "2024-07-05T22:14:38.894245200Z",
     "start_time": "2024-07-05T22:14:38.831683700Z"
    }
   },
   "id": "27651edc556f9fe5",
   "execution_count": 3
  },
  {
   "cell_type": "code",
   "outputs": [
    {
     "data": {
      "text/plain": "<Figure size 640x480 with 1 Axes>",
      "image/png": "[encoded data removed]"
     },
     "metadata": {},
     "output_type": "display_data"
    }
   ],
   "source": [
    "crop_img = crop_to_box(raw_img,coords[203])\n",
    "# print(crop_img)\n",
    "plt.imshow(crop_img)\n",
    "plt.show()"
   ],
   "metadata": {
    "collapsed": false,
    "ExecuteTime": {
     "end_time": "2024-07-05T22:22:18.859916500Z",
     "start_time": "2024-07-05T22:22:18.489401800Z"
    }
   },
   "id": "430472c052bb33aa",
   "execution_count": 8
  },
  {
   "cell_type": "code",
   "outputs": [
    {
     "data": {
      "text/plain": "array([[[ 97,  97,  97],\n        [ 98,  98,  98],\n        [105, 105, 105],\n        [112, 112, 112]]], dtype=uint8)"
     },
     "execution_count": 12,
     "metadata": {},
     "output_type": "execute_result"
    }
   ],
   "source": [],
   "metadata": {
    "collapsed": false,
    "ExecuteTime": {
     "end_time": "2024-07-05T22:12:29.070235300Z",
     "start_time": "2024-07-05T22:12:29.033307600Z"
    }
   },
   "id": "5f3e1f50c20ced17",
   "execution_count": 12
  },
  {
   "cell_type": "code",
   "outputs": [],
   "source": [],
   "metadata": {
    "collapsed": false
   },
   "id": "1542179bd7b21fbb"
  }
 ],
 "metadata": {
  "kernelspec": {
   "display_name": "Python 3",
   "language": "python",
   "name": "python3"
  },
  "language_info": {
   "codemirror_mode": {
    "name": "ipython",
    "version": 2
   },
   "file_extension": ".py",
   "mimetype": "text/x-python",
   "name": "python",
   "nbconvert_exporter": "python",
   "pygments_lexer": "ipython2",
   "version": "2.7.6"
  }
 },
 "nbformat": 4,
 "nbformat_minor": 5
}
